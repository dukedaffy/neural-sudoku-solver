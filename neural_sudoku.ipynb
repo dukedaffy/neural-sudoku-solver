{
 "metadata": {
  "language_info": {
   "codemirror_mode": {
    "name": "ipython",
    "version": 3
   },
   "file_extension": ".py",
   "mimetype": "text/x-python",
   "name": "python",
   "nbconvert_exporter": "python",
   "pygments_lexer": "ipython3",
   "version": "3.6.12-final"
  },
  "orig_nbformat": 2,
  "kernelspec": {
   "name": "python3",
   "display_name": "Python 3",
   "language": "python"
  }
 },
 "nbformat": 4,
 "nbformat_minor": 2,
 "cells": [
  {
   "cell_type": "code",
   "execution_count": 271,
   "metadata": {},
   "outputs": [
    {
     "output_type": "stream",
     "name": "stderr",
     "text": [
      "Using TensorFlow backend.\n"
     ]
    }
   ],
   "source": [
    "import cv2\n",
    "import numpy as np\n",
    "from PIL import Image\n",
    "import matplotlib.pyplot as plt\n",
    "from keras.models import load_model\n",
    "from tensorflow.keras.optimizers import Adam\n",
    "from tensorflow.keras.losses import SparseCategoricalCrossentropy\n"
   ]
  },
  {
   "cell_type": "code",
   "execution_count": 272,
   "metadata": {},
   "outputs": [],
   "source": [
    "def extract(sudoku_loc):\n",
    "    \n",
    "    img_path = sudoku_loc\n",
    "    img = cv2.imread(img_path)\n",
    "    he, wi, c = img.shape\n",
    "    # Convert to gray\n",
    "    img = cv2.cvtColor(img, cv2.COLOR_BGR2GRAY)\n",
    "\n",
    "    # (2) threshold-inv and morph-open \n",
    "    th, threshed = cv2.threshold(img, 220, 255, cv2.THRESH_BINARY_INV)\n",
    "    morphed = cv2.morphologyEx(threshed, cv2.MORPH_OPEN, np.ones((2,2)))\n",
    "\n",
    "    # (3) find and filter contours, then draw on src \n",
    "    cnts = cv2.findContours(morphed, cv2.RETR_LIST, cv2.CHAIN_APPROX_SIMPLE)[-2]\n",
    "\n",
    "\n",
    "    digitCnts=[]\n",
    "    counter=0\n",
    "    for cnt in cnts:\n",
    "        x,y,w,h  = cv2.boundingRect(cnt)\n",
    "        if ((w >= wi/11 and w<=wi/7.8) and (h >= he/11 and h <= he/7.8)):\n",
    "            digitCnts.append([x,y,w,h])\n",
    "            counter+=1\n",
    "            cv2.rectangle(morphed, (x,y), (x+w, y+h), (0, 0, 255), 2, cv2.LINE_AA)\n",
    "    print(counter)  \n",
    "\n",
    "    cv2.imwrite(\"morphed.png\", morphed)\n",
    "\n",
    "    img=morphed\n",
    "    for i in range (81):\n",
    "        pts = digitCnts[i]\n",
    "        x1=pts[0]\n",
    "        y1=pts[1]\n",
    "        w1=pts[2]\n",
    "        h1=pts[3]\n",
    "        crop_img = img[x1:x1+h1, y1:y1+w1]\n",
    "        cv2.imwrite(\"D:\\\\duke\\\\project\\\\sudoku\\\\cropped\\\\\"+str(i)+\".png\", crop_img)"
   ]
  },
  {
   "cell_type": "code",
   "execution_count": 273,
   "metadata": {},
   "outputs": [],
   "source": [
    "def predict(loc,mod):\n",
    "\n",
    "    #load the saved model\n",
    "    model = load_model(mod)\n",
    "\n",
    "    model.compile(optimizer=Adam(learning_rate=0.001), loss=SparseCategoricalCrossentropy(), metrics=['accuracy'])\n",
    "\n",
    "    matrix=[]\n",
    "    for i in range(81):\n",
    "        #loading images from your system\n",
    "        path=loc + str(i) +'.png' \n",
    "        img1 = cv2.imread(path)\n",
    "\n",
    "        #converting the image to grayscale\n",
    "        img= cv2.cvtColor(img1, cv2.COLOR_BGR2GRAY)\n",
    "\n",
    "        #resizing the image\n",
    "        img = cv2.resize(img,(28,28))\n",
    "        img = np.reshape(img,[1,28,28,1])\n",
    "        img1 = np.reshape(img,[28,28,1])\n",
    "\n",
    "        img1= img1[10:20, 10:20] \n",
    "\n",
    "        count=0\n",
    "        for i in range(10):\n",
    "            for j in range(10):\n",
    "                if (img1[i][j][0]==0):\n",
    "                        count+=1\n",
    "        if(count>80):\n",
    "            matrix.append(0)\n",
    "        else:\n",
    "\n",
    "            #predicting the model\n",
    "            pre = model.predict(img)\n",
    "            matrix.append(np.argmax(pre))\n",
    "        \n",
    "\n",
    "    arr = to_matrix(matrix,9)\n",
    "    a=matrixflip(arr)\n",
    "    return(a)\n",
    "\n",
    "def to_matrix(l, n):\n",
    "    return [l[i:i+n] for i in range(0, len(l), n)]\n",
    "\n",
    "def matrixflip(tempm):\n",
    "    \n",
    "    for i in range(0,len(tempm),1):\n",
    "            tempm[i].reverse()\n",
    "    \n",
    "    tempm.reverse()\n",
    "    tempm=np.transpose(tempm)\n",
    "    return(tempm)\n",
    "\n",
    "\n",
    "\n"
   ]
  },
  {
   "cell_type": "code",
   "execution_count": 274,
   "metadata": {},
   "outputs": [
    {
     "output_type": "stream",
     "name": "stdout",
     "text": [
      "81\n(81, 4)\n"
     ]
    }
   ],
   "source": [
    "img_path = 'D:\\\\duke\\\\project\\\\sudoku\\\\sudoku3.jpg'\n",
    "img = cv2.imread(img_path)\n",
    "extract(img_path)\n",
    "cropped_path ='D:\\\\duke\\\\project\\\\sudoku\\\\cropped\\\\'\n",
    "weights_path='D:\\\\duke\\\\project\\\\sudoku\\\\model1.h5'\n",
    "board = predict(cropped_path,weights_path)\n",
    "\n",
    "board=board.tolist()\n",
    "\n"
   ]
  },
  {
   "cell_type": "code",
   "execution_count": 275,
   "metadata": {},
   "outputs": [],
   "source": [
    "def solve(sudoku):\n",
    "    find = find_empty(sudoku)\n",
    "    if not find:\n",
    "        return True\n",
    "    else:\n",
    "        row,col = find\n",
    "    for i in range(1,10):\n",
    "        if valid(sudoku,i,(row,col)):\n",
    "            sudoku[row][col]=i\n",
    "            if solve(sudoku):\n",
    "                return True\n",
    "            sudoku[row][col]=0\n",
    "    return False\n",
    "\n",
    "\n",
    "def print_board(sudoku):\n",
    "    for i in range(len(sudoku[0])):\n",
    "        if(i%3 == 0 and i!=0):\n",
    "            print(\"- - - - - - - - - - - - - - - - \")\n",
    "        for j in range(len(sudoku[1])):\n",
    "            if(j%3 == 0 and j!=0):\n",
    "                print(\"| \",end =\" \")\n",
    "            if (j==8):\n",
    "                print(sudoku[i][j])\n",
    "            else:\n",
    "                print(str(sudoku[i][j]) + \" \",end=\" \")\n",
    "def find_empty(sudoku):\n",
    "    for i in range(len(sudoku[0])):\n",
    "        for j in range(len(sudoku[1])):\n",
    "            if(sudoku[i][j]==0):\n",
    "                return (i,j)\n",
    "    return None\n",
    "\n",
    "def valid(sudoku,num,pos):\n",
    "    #check row\n",
    "    for i in range(len(sudoku[0])):\n",
    "        if(sudoku[pos[0]][i]==num and pos[1]!=i):\n",
    "            return False\n",
    "\n",
    "    #check column \n",
    "    for i in range(len(sudoku[1])):\n",
    "        if(sudoku[i][pos[1]]==num and pos[0]!=i):\n",
    "            return False\n",
    "    #check box\n",
    "    box_x = pos[0]//3\n",
    "    box_y = pos[1]//3\n",
    "    for i in range(box_x*3,box_x*3 +3):\n",
    "        for j in range(box_y*3,box_y*3 +3):\n",
    "            if(sudoku[i][j]== num and (i,j) != pos):\n",
    "                return False\n",
    "    return True\n",
    "\n",
    "\n"
   ]
  },
  {
   "cell_type": "code",
   "execution_count": null,
   "metadata": {},
   "outputs": [],
   "source": [
    "plt.imshow(img)\n",
    "plt.axis(False)"
   ]
  },
  {
   "cell_type": "code",
   "execution_count": 276,
   "metadata": {},
   "outputs": [
    {
     "output_type": "stream",
     "name": "stdout",
     "text": [
      "8  0  0  |  7  1  5  |  0  0  4\n0  0  5  |  3  0  6  |  7  0  0\n3  0  6  |  4  0  8  |  9  0  1\n- - - - - - - - - - - - - - - - \n0  6  0  |  0  5  0  |  0  4  0\n0  0  0  |  8  0  7  |  0  0  0\n0  5  0  |  0  4  0  |  0  9  0\n- - - - - - - - - - - - - - - - \n6  0  9  |  5  0  3  |  4  0  2\n0  0  4  |  9  0  2  |  5  0  0\n5  0  0  |  1  6  4  |  0  0  9\n--------------------------------------------\n--------------------------------------------\n8  9  2  |  7  1  5  |  6  3  4\n4  1  5  |  3  9  6  |  7  2  8\n3  7  6  |  4  2  8  |  9  5  1\n- - - - - - - - - - - - - - - - \n7  6  8  |  2  5  9  |  1  4  3\n9  4  1  |  8  3  7  |  2  6  5\n2  5  3  |  6  4  1  |  8  9  7\n- - - - - - - - - - - - - - - - \n6  8  9  |  5  7  3  |  4  1  2\n1  3  4  |  9  8  2  |  5  7  6\n5  2  7  |  1  6  4  |  3  8  9\n"
     ]
    }
   ],
   "source": [
    "print_board(board)\n",
    "solve(board)\n",
    "print(\"--------------------------------------------\")\n",
    "print(\"--------------------------------------------\")\n",
    "print_board(board)"
   ]
  }
 ]
}